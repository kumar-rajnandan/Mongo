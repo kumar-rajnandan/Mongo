{
 "cells": [
  {
   "cell_type": "code",
   "execution_count": 7,
   "metadata": {},
   "outputs": [
    {
     "name": "stdout",
     "output_type": "stream",
     "text": [
      "Original DataFrame:\n",
      "                          _id  edge_id  day_id  time_id  speed\n",
      "0    6593ce55c969aff9011ae1e3        1       1        1     23\n",
      "1    6593ce55c969aff9011ae1e4        2       2        2     34\n",
      "2    6593ce55c969aff9011ae1e5        3       3        3     21\n",
      "3    6593ce55c969aff9011ae1e6        4       4        4     23\n",
      "4    6593ce55c969aff9011ae1e7        5       5        5     12\n",
      "..                        ...      ...     ...      ...    ...\n",
      "98   6593ce55c969aff9011ae245        4       4        4     23\n",
      "99   6593ce55c969aff9011ae246        5       5        5     12\n",
      "100  6593ce55c969aff9011ae247        6       6        6     32\n",
      "101  6593ce55c969aff9011ae248        7       7        7     12\n",
      "102  6593ce55c969aff9011ae249        8       1        8     34\n",
      "\n",
      "[103 rows x 5 columns]\n",
      "\n",
      "Duplicate Counts:\n",
      "   edge_id  day_id  time_id  speed  count\n",
      "0        1       1        1     23      2\n",
      "1        2       2        2     34      2\n",
      "2        3       3        3     21      2\n",
      "3        4       4        4     23      2\n",
      "4        5       5        5     12      2\n",
      "5        6       6        6     32      2\n",
      "6        7       7        7     12      2\n",
      "7        8       1        8     34      2\n",
      "\n",
      "DataFrame without Duplicates:\n",
      "                         _id  edge_id  day_id  time_id  speed\n",
      "0   6593ce55c969aff9011ae1e3        1       1        1     23\n",
      "1   6593ce55c969aff9011ae1e4        2       2        2     34\n",
      "2   6593ce55c969aff9011ae1e5        3       3        3     21\n",
      "3   6593ce55c969aff9011ae1e6        4       4        4     23\n",
      "4   6593ce55c969aff9011ae1e7        5       5        5     12\n",
      "..                       ...      ...     ...      ...    ...\n",
      "90  6593ce55c969aff9011ae23d       91       7       91     56\n",
      "91  6593ce55c969aff9011ae23e       92       1       92     76\n",
      "92  6593ce55c969aff9011ae23f       93       2       93     54\n",
      "93  6593ce55c969aff9011ae240       94       3       94     45\n",
      "94  6593ce55c969aff9011ae241       95       4       95     65\n",
      "\n",
      "[95 rows x 5 columns]\n"
     ]
    }
   ],
   "source": [
    "import pandas as pd\n",
    "from pymongo import MongoClient\n",
    "\n",
    "# Replace the placeholders with your MongoDB connection details\n",
    "mongo_uri = \"mongodb://localhost:27017\"\n",
    "collection_name = \"edge_inter_202310_w46\"\n",
    "\n",
    "# Create a MongoDB client\n",
    "client = MongoClient(mongo_uri)\n",
    "\n",
    "# Access the desired database and collection\n",
    "db = client.get_database('engine_3')\n",
    "collection = db[collection_name]\n",
    "\n",
    "# Fetch data from MongoDB collection and convert it to a DataFrame\n",
    "df = pd.DataFrame(list(collection.find()))\n",
    "\n",
    "# Display the DataFrame\n",
    "print(\"Original DataFrame:\")\n",
    "print(df)\n",
    "\n",
    "# Check for duplicate rows based on specific columns\n",
    "duplicates = df[df.duplicated(subset=['edge_id', 'day_id', 'time_id', 'speed'], keep=False)]\n",
    "duplicate_counts = duplicates.groupby(['edge_id', 'day_id', 'time_id', 'speed']).size().reset_index(name='count')\n",
    "\n",
    "# Display duplicate counts\n",
    "print(\"\\nDuplicate Counts:\")\n",
    "print(duplicate_counts)\n",
    "\n",
    "# Remove duplicates from the DataFrame\n",
    "df_no_duplicates = df.drop_duplicates(subset=['edge_id', 'day_id', 'time_id', 'speed'])\n",
    "\n",
    "# Display the DataFrame without duplicates\n",
    "print(\"\\nDataFrame without Duplicates:\")\n",
    "print(df_no_duplicates)\n",
    "\n",
    "# Clear the existing data in the MongoDB collection (optional)\n",
    "# collection.delete_many({})\n",
    "\n",
    "# Insert the cleaned data back into the MongoDB collection\n",
    "cleaned_data = df_no_duplicates.to_dict(orient='records')\n",
    "collection.delete_many({})\n",
    "collection.insert_many(cleaned_data)\n",
    "\n",
    "# Close the MongoDB client connection\n",
    "client.close()\n"
   ]
  },
  {
   "cell_type": "markdown",
   "metadata": {},
   "source": [
    "# Check duplicates data of mongo collection"
   ]
  },
  {
   "cell_type": "code",
   "execution_count": null,
   "metadata": {},
   "outputs": [],
   "source": [
    "import pandas as pd\n",
    "from pymongo import MongoClient\n",
    "\n",
    "\n",
    "# Replace the placeholders with your MongoDB connection details\n",
    "mongo_uri = \"mongodb://localhost:27017\"\n",
    "collection_name = \"edge_inter_202310_w46\"\n",
    "\n",
    "# Create a MongoDB client\n",
    "client = MongoClient(mongo_uri)\n",
    "\n",
    "# Access the desired database and collection\n",
    "db = client.get_database('engine_3')\n",
    "collection = db[collection_name]\n",
    "\n",
    "# Fetch data from MongoDB collection and convert it to a list of dictionaries\n",
    "mongo_data = list(collection.find())\n",
    "\n",
    "# Create a DataFrame from the list of dictionaries\n",
    "df = pd.DataFrame(mongo_data)\n",
    "\n",
    "# Display the DataFrame\n",
    "\n",
    "# Close the MongoDB client connection\n",
    "client.close()\n",
    "\n",
    "duplicates = df[df.duplicated(subset=['edge_id', 'day_id', 'time_id', 'speed'], keep=False)]\n",
    "duplicate_counts = duplicates.groupby(['edge_id', 'day_id', 'time_id', 'speed']).size().reset_index(name='count')\n",
    "duplicate_counts\n",
    "\n",
    "df_no_duplicates = df.drop_duplicates(subset=['edge_id', 'day_id', 'time_id', 'speed'])\n",
    "df_no_duplicates\n"
   ]
  },
  {
   "cell_type": "code",
   "execution_count": 8,
   "metadata": {},
   "outputs": [
    {
     "data": {
      "text/plain": [
       "'D:\\\\users\\\\Rajnandan\\\\python\\\\MongoDB'"
      ]
     },
     "execution_count": 8,
     "metadata": {},
     "output_type": "execute_result"
    }
   ],
   "source": [
    "pwd()"
   ]
  },
  {
   "cell_type": "code",
   "execution_count": null,
   "metadata": {},
   "outputs": [],
   "source": []
  }
 ],
 "metadata": {
  "kernelspec": {
   "display_name": "Python 3",
   "language": "python",
   "name": "python3"
  },
  "language_info": {
   "codemirror_mode": {
    "name": "ipython",
    "version": 3
   },
   "file_extension": ".py",
   "mimetype": "text/x-python",
   "name": "python",
   "nbconvert_exporter": "python",
   "pygments_lexer": "ipython3",
   "version": "3.8.3"
  }
 },
 "nbformat": 4,
 "nbformat_minor": 4
}
